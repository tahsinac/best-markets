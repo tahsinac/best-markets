{
 "cells": [
  {
   "cell_type": "markdown",
   "metadata": {},
   "source": [
    "# Finding The Best Markets For E-learning\n",
    "\n",
    "Internet is the new university and e-learning has never been as popular as it is today. Learners can learn whatever skiils are on demand right now from industry approved courses right from the comfort of their rooms, at their own pace and at a fraction of a cost of traditional learning instituions. \n",
    "\n",
    "Our imaginary company is an e-learning company that offers courses in programming and it's looking to promote their product and invest some money in advertising. The aim of this project is to find the two best markets for them."
   ]
  },
  {
   "cell_type": "markdown",
   "metadata": {},
   "source": [
    "## The Dataset\n",
    "\n",
    "Conducting a survey can be expensive: both in terms of money and time. To avoid this hassle, we will be using an already available dataset. The best candidate for our pur pose is __[ freeCodeCamp's 2017 New Coder Survey](https://medium.freecodecamp.org/we-asked-20-000-people-who-they-are-and-how-theyre-learning-to-code-fff5d668969)__. __[freecodecamp](https://www.freecodecamp.org/)__ is a free e-learning platform that offers courses on web development. The dataset is publicly available in __[this Github repository](https://github.com/freeCodeCamp/2017-new-coder-survey)__."
   ]
  },
  {
   "cell_type": "code",
   "execution_count": 91,
   "metadata": {
    "collapsed": true
   },
   "outputs": [],
   "source": [
    "import pandas as pd\n",
    "import numpy as np\n",
    "import matplotlib.pyplot as plt\n",
    "import seaborn as sns\n",
    "import re\n",
    "plt.style.use('ggplot')\n",
    "%matplotlib inline"
   ]
  },
  {
   "cell_type": "code",
   "execution_count": 92,
   "metadata": {
    "collapsed": false
   },
   "outputs": [],
   "source": [
    "survey= pd.read_csv('2017-fCC-New-Coders-Survey-Data.csv', low_memory=False)"
   ]
  },
  {
   "cell_type": "code",
   "execution_count": 93,
   "metadata": {
    "collapsed": false
   },
   "outputs": [
    {
     "data": {
      "text/plain": [
       "(18175, 136)"
      ]
     },
     "execution_count": 93,
     "metadata": {},
     "output_type": "execute_result"
    }
   ],
   "source": [
    "survey.shape"
   ]
  },
  {
   "cell_type": "code",
   "execution_count": 94,
   "metadata": {
    "collapsed": false
   },
   "outputs": [
    {
     "data": {
      "text/html": [
       "<div>\n",
       "<style scoped>\n",
       "    .dataframe tbody tr th:only-of-type {\n",
       "        vertical-align: middle;\n",
       "    }\n",
       "\n",
       "    .dataframe tbody tr th {\n",
       "        vertical-align: top;\n",
       "    }\n",
       "\n",
       "    .dataframe thead th {\n",
       "        text-align: right;\n",
       "    }\n",
       "</style>\n",
       "<table border=\"1\" class=\"dataframe\">\n",
       "  <thead>\n",
       "    <tr style=\"text-align: right;\">\n",
       "      <th></th>\n",
       "      <th>Age</th>\n",
       "      <th>AttendedBootcamp</th>\n",
       "      <th>BootcampFinish</th>\n",
       "      <th>BootcampLoanYesNo</th>\n",
       "      <th>BootcampName</th>\n",
       "      <th>BootcampRecommend</th>\n",
       "      <th>ChildrenNumber</th>\n",
       "      <th>CityPopulation</th>\n",
       "      <th>CodeEventConferences</th>\n",
       "      <th>CodeEventDjangoGirls</th>\n",
       "      <th>...</th>\n",
       "      <th>YouTubeFCC</th>\n",
       "      <th>YouTubeFunFunFunction</th>\n",
       "      <th>YouTubeGoogleDev</th>\n",
       "      <th>YouTubeLearnCode</th>\n",
       "      <th>YouTubeLevelUpTuts</th>\n",
       "      <th>YouTubeMIT</th>\n",
       "      <th>YouTubeMozillaHacks</th>\n",
       "      <th>YouTubeOther</th>\n",
       "      <th>YouTubeSimplilearn</th>\n",
       "      <th>YouTubeTheNewBoston</th>\n",
       "    </tr>\n",
       "  </thead>\n",
       "  <tbody>\n",
       "    <tr>\n",
       "      <th>0</th>\n",
       "      <td>27.0</td>\n",
       "      <td>0.0</td>\n",
       "      <td>NaN</td>\n",
       "      <td>NaN</td>\n",
       "      <td>NaN</td>\n",
       "      <td>NaN</td>\n",
       "      <td>NaN</td>\n",
       "      <td>more than 1 million</td>\n",
       "      <td>NaN</td>\n",
       "      <td>NaN</td>\n",
       "      <td>...</td>\n",
       "      <td>NaN</td>\n",
       "      <td>NaN</td>\n",
       "      <td>NaN</td>\n",
       "      <td>NaN</td>\n",
       "      <td>NaN</td>\n",
       "      <td>NaN</td>\n",
       "      <td>NaN</td>\n",
       "      <td>NaN</td>\n",
       "      <td>NaN</td>\n",
       "      <td>NaN</td>\n",
       "    </tr>\n",
       "    <tr>\n",
       "      <th>1</th>\n",
       "      <td>34.0</td>\n",
       "      <td>0.0</td>\n",
       "      <td>NaN</td>\n",
       "      <td>NaN</td>\n",
       "      <td>NaN</td>\n",
       "      <td>NaN</td>\n",
       "      <td>NaN</td>\n",
       "      <td>less than 100,000</td>\n",
       "      <td>NaN</td>\n",
       "      <td>NaN</td>\n",
       "      <td>...</td>\n",
       "      <td>1.0</td>\n",
       "      <td>NaN</td>\n",
       "      <td>NaN</td>\n",
       "      <td>NaN</td>\n",
       "      <td>NaN</td>\n",
       "      <td>NaN</td>\n",
       "      <td>NaN</td>\n",
       "      <td>NaN</td>\n",
       "      <td>NaN</td>\n",
       "      <td>NaN</td>\n",
       "    </tr>\n",
       "    <tr>\n",
       "      <th>2</th>\n",
       "      <td>21.0</td>\n",
       "      <td>0.0</td>\n",
       "      <td>NaN</td>\n",
       "      <td>NaN</td>\n",
       "      <td>NaN</td>\n",
       "      <td>NaN</td>\n",
       "      <td>NaN</td>\n",
       "      <td>more than 1 million</td>\n",
       "      <td>NaN</td>\n",
       "      <td>NaN</td>\n",
       "      <td>...</td>\n",
       "      <td>NaN</td>\n",
       "      <td>NaN</td>\n",
       "      <td>NaN</td>\n",
       "      <td>1.0</td>\n",
       "      <td>1.0</td>\n",
       "      <td>NaN</td>\n",
       "      <td>NaN</td>\n",
       "      <td>NaN</td>\n",
       "      <td>NaN</td>\n",
       "      <td>NaN</td>\n",
       "    </tr>\n",
       "  </tbody>\n",
       "</table>\n",
       "<p>3 rows × 136 columns</p>\n",
       "</div>"
      ],
      "text/plain": [
       "    Age  AttendedBootcamp  BootcampFinish  BootcampLoanYesNo BootcampName  \\\n",
       "0  27.0               0.0             NaN                NaN          NaN   \n",
       "1  34.0               0.0             NaN                NaN          NaN   \n",
       "2  21.0               0.0             NaN                NaN          NaN   \n",
       "\n",
       "   BootcampRecommend  ChildrenNumber       CityPopulation  \\\n",
       "0                NaN             NaN  more than 1 million   \n",
       "1                NaN             NaN    less than 100,000   \n",
       "2                NaN             NaN  more than 1 million   \n",
       "\n",
       "   CodeEventConferences  CodeEventDjangoGirls         ...           \\\n",
       "0                   NaN                   NaN         ...            \n",
       "1                   NaN                   NaN         ...            \n",
       "2                   NaN                   NaN         ...            \n",
       "\n",
       "   YouTubeFCC  YouTubeFunFunFunction  YouTubeGoogleDev  YouTubeLearnCode  \\\n",
       "0         NaN                    NaN               NaN               NaN   \n",
       "1         1.0                    NaN               NaN               NaN   \n",
       "2         NaN                    NaN               NaN               1.0   \n",
       "\n",
       "   YouTubeLevelUpTuts  YouTubeMIT  YouTubeMozillaHacks YouTubeOther  \\\n",
       "0                 NaN         NaN                  NaN          NaN   \n",
       "1                 NaN         NaN                  NaN          NaN   \n",
       "2                 1.0         NaN                  NaN          NaN   \n",
       "\n",
       "   YouTubeSimplilearn  YouTubeTheNewBoston  \n",
       "0                 NaN                  NaN  \n",
       "1                 NaN                  NaN  \n",
       "2                 NaN                  NaN  \n",
       "\n",
       "[3 rows x 136 columns]"
      ]
     },
     "execution_count": 94,
     "metadata": {},
     "output_type": "execute_result"
    }
   ],
   "source": [
    "survey.head(3)"
   ]
  },
  {
   "cell_type": "code",
   "execution_count": 95,
   "metadata": {
    "collapsed": false
   },
   "outputs": [
    {
     "data": {
      "text/html": [
       "<div>\n",
       "<style scoped>\n",
       "    .dataframe tbody tr th:only-of-type {\n",
       "        vertical-align: middle;\n",
       "    }\n",
       "\n",
       "    .dataframe tbody tr th {\n",
       "        vertical-align: top;\n",
       "    }\n",
       "\n",
       "    .dataframe thead th {\n",
       "        text-align: right;\n",
       "    }\n",
       "</style>\n",
       "<table border=\"1\" class=\"dataframe\">\n",
       "  <thead>\n",
       "    <tr style=\"text-align: right;\">\n",
       "      <th></th>\n",
       "      <th>Age</th>\n",
       "      <th>AttendedBootcamp</th>\n",
       "      <th>BootcampFinish</th>\n",
       "      <th>BootcampLoanYesNo</th>\n",
       "      <th>BootcampName</th>\n",
       "      <th>BootcampRecommend</th>\n",
       "      <th>ChildrenNumber</th>\n",
       "      <th>CityPopulation</th>\n",
       "      <th>CodeEventConferences</th>\n",
       "      <th>CodeEventDjangoGirls</th>\n",
       "      <th>...</th>\n",
       "      <th>YouTubeFCC</th>\n",
       "      <th>YouTubeFunFunFunction</th>\n",
       "      <th>YouTubeGoogleDev</th>\n",
       "      <th>YouTubeLearnCode</th>\n",
       "      <th>YouTubeLevelUpTuts</th>\n",
       "      <th>YouTubeMIT</th>\n",
       "      <th>YouTubeMozillaHacks</th>\n",
       "      <th>YouTubeOther</th>\n",
       "      <th>YouTubeSimplilearn</th>\n",
       "      <th>YouTubeTheNewBoston</th>\n",
       "    </tr>\n",
       "  </thead>\n",
       "  <tbody>\n",
       "    <tr>\n",
       "      <th>18172</th>\n",
       "      <td>39.0</td>\n",
       "      <td>0.0</td>\n",
       "      <td>NaN</td>\n",
       "      <td>NaN</td>\n",
       "      <td>NaN</td>\n",
       "      <td>NaN</td>\n",
       "      <td>3.0</td>\n",
       "      <td>more than 1 million</td>\n",
       "      <td>NaN</td>\n",
       "      <td>NaN</td>\n",
       "      <td>...</td>\n",
       "      <td>1.0</td>\n",
       "      <td>NaN</td>\n",
       "      <td>NaN</td>\n",
       "      <td>NaN</td>\n",
       "      <td>NaN</td>\n",
       "      <td>NaN</td>\n",
       "      <td>NaN</td>\n",
       "      <td>NaN</td>\n",
       "      <td>NaN</td>\n",
       "      <td>1.0</td>\n",
       "    </tr>\n",
       "    <tr>\n",
       "      <th>18173</th>\n",
       "      <td>54.0</td>\n",
       "      <td>0.0</td>\n",
       "      <td>NaN</td>\n",
       "      <td>NaN</td>\n",
       "      <td>NaN</td>\n",
       "      <td>NaN</td>\n",
       "      <td>3.0</td>\n",
       "      <td>between 100,000 and 1 million</td>\n",
       "      <td>NaN</td>\n",
       "      <td>NaN</td>\n",
       "      <td>...</td>\n",
       "      <td>1.0</td>\n",
       "      <td>NaN</td>\n",
       "      <td>NaN</td>\n",
       "      <td>1.0</td>\n",
       "      <td>NaN</td>\n",
       "      <td>NaN</td>\n",
       "      <td>1.0</td>\n",
       "      <td>NaN</td>\n",
       "      <td>NaN</td>\n",
       "      <td>NaN</td>\n",
       "    </tr>\n",
       "    <tr>\n",
       "      <th>18174</th>\n",
       "      <td>50.0</td>\n",
       "      <td>0.0</td>\n",
       "      <td>NaN</td>\n",
       "      <td>NaN</td>\n",
       "      <td>NaN</td>\n",
       "      <td>NaN</td>\n",
       "      <td>2.0</td>\n",
       "      <td>less than 100,000</td>\n",
       "      <td>NaN</td>\n",
       "      <td>NaN</td>\n",
       "      <td>...</td>\n",
       "      <td>NaN</td>\n",
       "      <td>NaN</td>\n",
       "      <td>NaN</td>\n",
       "      <td>NaN</td>\n",
       "      <td>NaN</td>\n",
       "      <td>NaN</td>\n",
       "      <td>NaN</td>\n",
       "      <td>NaN</td>\n",
       "      <td>NaN</td>\n",
       "      <td>NaN</td>\n",
       "    </tr>\n",
       "  </tbody>\n",
       "</table>\n",
       "<p>3 rows × 136 columns</p>\n",
       "</div>"
      ],
      "text/plain": [
       "        Age  AttendedBootcamp  BootcampFinish  BootcampLoanYesNo BootcampName  \\\n",
       "18172  39.0               0.0             NaN                NaN          NaN   \n",
       "18173  54.0               0.0             NaN                NaN          NaN   \n",
       "18174  50.0               0.0             NaN                NaN          NaN   \n",
       "\n",
       "       BootcampRecommend  ChildrenNumber                 CityPopulation  \\\n",
       "18172                NaN             3.0            more than 1 million   \n",
       "18173                NaN             3.0  between 100,000 and 1 million   \n",
       "18174                NaN             2.0              less than 100,000   \n",
       "\n",
       "       CodeEventConferences  CodeEventDjangoGirls         ...           \\\n",
       "18172                   NaN                   NaN         ...            \n",
       "18173                   NaN                   NaN         ...            \n",
       "18174                   NaN                   NaN         ...            \n",
       "\n",
       "       YouTubeFCC  YouTubeFunFunFunction  YouTubeGoogleDev  YouTubeLearnCode  \\\n",
       "18172         1.0                    NaN               NaN               NaN   \n",
       "18173         1.0                    NaN               NaN               1.0   \n",
       "18174         NaN                    NaN               NaN               NaN   \n",
       "\n",
       "       YouTubeLevelUpTuts  YouTubeMIT  YouTubeMozillaHacks YouTubeOther  \\\n",
       "18172                 NaN         NaN                  NaN          NaN   \n",
       "18173                 NaN         NaN                  1.0          NaN   \n",
       "18174                 NaN         NaN                  NaN          NaN   \n",
       "\n",
       "       YouTubeSimplilearn  YouTubeTheNewBoston  \n",
       "18172                 NaN                  1.0  \n",
       "18173                 NaN                  NaN  \n",
       "18174                 NaN                  NaN  \n",
       "\n",
       "[3 rows x 136 columns]"
      ]
     },
     "execution_count": 95,
     "metadata": {},
     "output_type": "execute_result"
    }
   ],
   "source": [
    "survey.tail(3)"
   ]
  },
  {
   "cell_type": "markdown",
   "metadata": {},
   "source": [
    "## Checking For Sample Representativity\n",
    "\n",
    "The company mainly offers courses on web and mobile development, but they also cover many other domains such as data science, game development, etc. Therefore, we want to answer questions about a population of new coders.\n",
    "\n",
    "Before we can start looking for answers to questions that'll help find the best market for the company, we have to determine whether the data we have is representative of the population.\n",
    "\n",
    "The JobRoleInterest interest column describes for every participant the role(s) they'd be interested in working in. If a participant is interested in working in a certain domain, it means that they're also interested in learning about that domain."
   ]
  },
  {
   "cell_type": "code",
   "execution_count": 96,
   "metadata": {
    "collapsed": false
   },
   "outputs": [
    {
     "data": {
      "text/plain": [
       "Full-Stack Web Developer                                                                                                                                                                                            11.770595\n",
       "  Front-End Web Developer                                                                                                                                                                                            6.435927\n",
       "  Data Scientist                                                                                                                                                                                                     2.173913\n",
       "Back-End Web Developer                                                                                                                                                                                               2.030892\n",
       "  Mobile Developer                                                                                                                                                                                                   1.673341\n",
       "Game Developer                                                                                                                                                                                                       1.630435\n",
       "Information Security                                                                                                                                                                                                 1.315789\n",
       "Full-Stack Web Developer,   Front-End Web Developer                                                                                                                                                                  0.915332\n",
       "  Front-End Web Developer, Full-Stack Web Developer                                                                                                                                                                  0.800915\n",
       "  Product Manager                                                                                                                                                                                                    0.786613\n",
       "Data Engineer                                                                                                                                                                                                        0.758009\n",
       "  User Experience Designer                                                                                                                                                                                           0.743707\n",
       "  User Experience Designer,   Front-End Web Developer                                                                                                                                                                0.614989\n",
       "  Front-End Web Developer, Back-End Web Developer, Full-Stack Web Developer                                                                                                                                          0.557780\n",
       "Back-End Web Developer, Full-Stack Web Developer,   Front-End Web Developer                                                                                                                                          0.514874\n",
       "Back-End Web Developer,   Front-End Web Developer, Full-Stack Web Developer                                                                                                                                          0.514874\n",
       "  DevOps / SysAdmin                                                                                                                                                                                                  0.514874\n",
       "Full-Stack Web Developer,   Front-End Web Developer, Back-End Web Developer                                                                                                                                          0.443364\n",
       "  Front-End Web Developer, Full-Stack Web Developer, Back-End Web Developer                                                                                                                                          0.429062\n",
       "Full-Stack Web Developer,   Mobile Developer                                                                                                                                                                         0.414760\n",
       "  Front-End Web Developer,   User Experience Designer                                                                                                                                                                0.414760\n",
       "Back-End Web Developer, Full-Stack Web Developer                                                                                                                                                                     0.386156\n",
       "Full-Stack Web Developer, Back-End Web Developer                                                                                                                                                                     0.371854\n",
       "Back-End Web Developer,   Front-End Web Developer                                                                                                                                                                    0.286041\n",
       "Full-Stack Web Developer, Back-End Web Developer,   Front-End Web Developer                                                                                                                                          0.271739\n",
       "Data Engineer,   Data Scientist                                                                                                                                                                                      0.271739\n",
       "  Front-End Web Developer,   Mobile Developer                                                                                                                                                                        0.257437\n",
       "Full-Stack Web Developer,   Data Scientist                                                                                                                                                                           0.243135\n",
       "  Mobile Developer, Game Developer                                                                                                                                                                                   0.228833\n",
       "  Data Scientist, Data Engineer                                                                                                                                                                                      0.228833\n",
       "                                                                                                                                                                                                                      ...    \n",
       "  DevOps / SysAdmin, Data Engineer,   Data Scientist,   User Experience Designer, Full-Stack Web Developer                                                                                                           0.014302\n",
       "Game Developer, Back-End Web Developer, Information Security                                                                                                                                                         0.014302\n",
       "Full-Stack Web Developer,   Front-End Web Developer,   User Experience Designer,   Data Scientist                                                                                                                    0.014302\n",
       "  Front-End Web Developer, Software Engineer                                                                                                                                                                         0.014302\n",
       "Information Security,   Quality Assurance Engineer,   DevOps / SysAdmin,   Data Scientist                                                                                                                            0.014302\n",
       "  User Experience Designer, Full-Stack Web Developer,   Data Scientist                                                                                                                                               0.014302\n",
       "Full-Stack Web Developer,   Mobile Developer,   Front-End Web Developer, Back-End Web Developer,   DevOps / SysAdmin, Information Security, Game Developer                                                           0.014302\n",
       "Information Security, Game Developer,   DevOps / SysAdmin                                                                                                                                                            0.014302\n",
       "  User Experience Designer, Data Engineer,   Quality Assurance Engineer, Back-End Web Developer,   Mobile Developer, Full-Stack Web Developer,   Front-End Web Developer,   DevOps / SysAdmin,   Product Manager     0.014302\n",
       "Information Security,   Front-End Web Developer,   Quality Assurance Engineer                                                                                                                                        0.014302\n",
       "Full-Stack Web Developer,   Front-End Web Developer, Back-End Web Developer,   Data Scientist,   User Experience Designer                                                                                            0.014302\n",
       "Full-Stack Web Developer, Data Engineer,   Front-End Web Developer, Back-End Web Developer,   Data Scientist                                                                                                         0.014302\n",
       "  Data Scientist, Data Engineer,   Product Manager                                                                                                                                                                   0.014302\n",
       "  Mobile Developer, Full-Stack Web Developer,   Front-End Web Developer,   Data Scientist,   User Experience Designer, Data Engineer                                                                                 0.014302\n",
       "Game Developer, Full-Stack Web Developer, Back-End Web Developer, Data Engineer,   Quality Assurance Engineer,   Data Scientist,   Product Manager,   Mobile Developer                                               0.014302\n",
       "  Data Scientist, Game Developer, Data Engineer, Full-Stack Web Developer,   DevOps / SysAdmin, Back-End Web Developer, Information Security                                                                         0.014302\n",
       "Data Engineer,   Front-End Web Developer,   Mobile Developer, Full-Stack Web Developer,   Product Manager, Information Security,   Data Scientist, Back-End Web Developer                                            0.014302\n",
       "Back-End Web Developer, Full-Stack Web Developer,   Front-End Web Developer,   DevOps / SysAdmin,   Mobile Developer, Data Engineer                                                                                  0.014302\n",
       "Back-End Web Developer, Full-Stack Web Developer, Information Security, Game Developer,   Mobile Developer                                                                                                           0.014302\n",
       "  DevOps / SysAdmin, Game Developer, Information Security,   Mobile Developer                                                                                                                                        0.014302\n",
       "  Product Manager,   Mobile Developer, Game Developer, Back-End Web Developer,   Front-End Web Developer                                                                                                             0.014302\n",
       "  Quality Assurance Engineer,   Data Scientist, Full-Stack Web Developer                                                                                                                                             0.014302\n",
       "  Front-End Web Developer, Full-Stack Web Developer,   Data Scientist,   User Experience Designer,   Quality Assurance Engineer, Game Developer                                                                      0.014302\n",
       "  Front-End Web Developer,   Mobile Developer, Game Developer,   User Experience Designer, Back-End Web Developer, Full-Stack Web Developer                                                                          0.014302\n",
       "  Data Scientist, Full-Stack Web Developer,   User Experience Designer                                                                                                                                               0.014302\n",
       "  Front-End Web Developer, Game Developer, Back-End Web Developer                                                                                                                                                    0.014302\n",
       "Back-End Web Developer, Game Developer, Full-Stack Web Developer,   Mobile Developer,   Front-End Web Developer,   Data Scientist                                                                                    0.014302\n",
       "Game Developer, Information Security, Full-Stack Web Developer,   Front-End Web Developer, Back-End Web Developer,   Mobile Developer                                                                                0.014302\n",
       "  Data Scientist,   Mobile Developer, Data Engineer, Full-Stack Web Developer                                                                                                                                        0.014302\n",
       "  Front-End Web Developer, Full-Stack Web Developer,   Data Scientist,   DevOps / SysAdmin, Back-End Web Developer, Game Developer,   Mobile Developer                                                               0.014302\n",
       "Name: JobRoleInterest, Length: 3213, dtype: float64"
      ]
     },
     "execution_count": 96,
     "metadata": {},
     "output_type": "execute_result"
    }
   ],
   "source": [
    "survey['JobRoleInterest'].value_counts(normalize = True) * 100"
   ]
  },
  {
   "cell_type": "markdown",
   "metadata": {
    "collapsed": true
   },
   "source": [
    "A quick look through the frequency distibution of the JobRoleInterest column tells us:\n",
    "* A lot of people are interested in web development(front end + back end).\n",
    "* A small percentage of people are interested in mobile development.\n",
    "* Some people are interested in learning more than one subject.\n",
    "* The second most in-demand subject is data science, which our company offers as well.\n"
   ]
  },
  {
   "cell_type": "code",
   "execution_count": 97,
   "metadata": {
    "collapsed": false
   },
   "outputs": [
    {
     "data": {
      "text/plain": [
       "0                                                  NaN\n",
       "1                             Full-Stack Web Developer\n",
       "2      Front-End Web Developer, Back-End Web Develo...\n",
       "3      Front-End Web Developer, Full-Stack Web Deve...\n",
       "4    Full-Stack Web Developer, Information Security...\n",
       "5                                                  NaN\n",
       "Name: JobRoleInterest, dtype: object"
      ]
     },
     "execution_count": 97,
     "metadata": {},
     "output_type": "execute_result"
    }
   ],
   "source": [
    "survey['JobRoleInterest'].head(6)"
   ]
  },
  {
   "cell_type": "markdown",
   "metadata": {},
   "source": [
    "Now, we look into how much participants are interested in a single subject and how much are interested in multiple."
   ]
  },
  {
   "cell_type": "code",
   "execution_count": 98,
   "metadata": {
    "collapsed": false
   },
   "outputs": [
    {
     "data": {
      "text/plain": [
       "1     31.650458\n",
       "2     10.883867\n",
       "3     15.889588\n",
       "4     15.217391\n",
       "5     12.042334\n",
       "6      6.721968\n",
       "7      3.861556\n",
       "8      1.759153\n",
       "9      0.986842\n",
       "10     0.471968\n",
       "11     0.185927\n",
       "12     0.300343\n",
       "13     0.028604\n",
       "Name: JobRoleInterest, dtype: float64"
      ]
     },
     "execution_count": 98,
     "metadata": {},
     "output_type": "execute_result"
    }
   ],
   "source": [
    "# Dropping missing values from the JobRoleInterest column\n",
    "interests_no_nulls = survey['JobRoleInterest'].dropna()\n",
    "\n",
    "# Proportion of the participants who're interested in single & multiple subjects\n",
    "interests_split = interests_no_nulls.str.split(',')\n",
    "num_interests = interests_split.apply(lambda x: len(x))\n",
    "num_interests.value_counts(normalize = True).sort_index() * 100"
   ]
  },
  {
   "cell_type": "markdown",
   "metadata": {
    "collapsed": false
   },
   "source": [
    "Looks like just over 31% of the respondents are interested in learning only one subject. However, as the company offers courses in various subjects, new coders having mixed interests can actually be good for the company."
   ]
  },
  {
   "cell_type": "markdown",
   "metadata": {
    "collapsed": false
   },
   "source": [
    "As the company mainly offers courses in web & mobile development, we'll now look at how many respondents chose at least one of these options."
   ]
  },
  {
   "cell_type": "code",
   "execution_count": 99,
   "metadata": {
    "collapsed": false
   },
   "outputs": [
    {
     "data": {
      "text/plain": [
       "<matplotlib.text.Text at 0x7fa291fb2da0>"
      ]
     },
     "execution_count": 99,
     "metadata": {},
     "output_type": "execute_result"
    },
    {
     "data": {
      "image/png": "[encoded data removed]",
      "text/plain": [
       "<matplotlib.figure.Figure at 0x7fa29303c358>"
      ]
     },
     "metadata": {},
     "output_type": "display_data"
    }
   ],
   "source": [
    "# Checking for 'Web Developer' or 'Mobile Developer' in response\n",
    "bools = []\n",
    "for i in range(len(interests_no_nulls)):\n",
    "    chk = bool(re.search('Web Developer|Mobile Developer', interests_no_nulls.iloc[i]))\n",
    "    bools.append(chk)\n",
    "web_or_mob = pd.Series(bools)\n",
    "freq_table = web_or_mob.value_counts(normalize = True) * 100\n",
    "\n",
    "freq_table.plot.bar()\n",
    "plt.ylim(0,100)\n",
    "plt.ylabel('Percentage')\n",
    "plt.xticks([0,1], ['Web & Mobile\\nDevelopment', 'Other\\n Subjects'], rotation = 0, fontsize = 12)\n",
    "plt.title('Interest In Subjects', y = 1.05, fontsize = 15)\n",
    "plt.text(-0.088, 91, str(round(freq_table.iloc[0], 1)) + ' %', fontsize = 12)\n",
    "plt.text(0.91, 20, str(round(freq_table.iloc[1], 1)) + ' %', fontsize = 12)\n",
    "\n"
   ]
  },
  {
   "cell_type": "markdown",
   "metadata": {
    "collapsed": false
   },
   "source": [
    "Just over 86% of the respondents expressed interest in learning two of the main courses the company offeres. Therefore we have strong reasons to consider this sample is representative of our population of interest."
   ]
  },
  {
   "cell_type": "markdown",
   "metadata": {
    "collapsed": false
   },
   "source": [
    "## New Coders - Locations and Densities\n",
    "Now that we have concluded that this sample os representative of the population of our interest, we can start to analyze it.\n",
    "\n",
    "The column CountryLive in the data set tells us where each of the respondents are located. We can think of each country as an individual market, so we can frame our goal as finding the two best countries to advertise in.\n"
   ]
  },
  {
   "cell_type": "code",
   "execution_count": 100,
   "metadata": {
    "collapsed": false
   },
   "outputs": [
    {
     "data": {
      "text/html": [
       "<div>\n",
       "<style scoped>\n",
       "    .dataframe tbody tr th:only-of-type {\n",
       "        vertical-align: middle;\n",
       "    }\n",
       "\n",
       "    .dataframe tbody tr th {\n",
       "        vertical-align: top;\n",
       "    }\n",
       "\n",
       "    .dataframe thead th {\n",
       "        text-align: right;\n",
       "    }\n",
       "</style>\n",
       "<table border=\"1\" class=\"dataframe\">\n",
       "  <thead>\n",
       "    <tr style=\"text-align: right;\">\n",
       "      <th></th>\n",
       "      <th>Number Of Respondents</th>\n",
       "      <th>Percentage</th>\n",
       "    </tr>\n",
       "  </thead>\n",
       "  <tbody>\n",
       "    <tr>\n",
       "      <th>United States of America</th>\n",
       "      <td>3125</td>\n",
       "      <td>45.700497</td>\n",
       "    </tr>\n",
       "    <tr>\n",
       "      <th>India</th>\n",
       "      <td>528</td>\n",
       "      <td>7.721556</td>\n",
       "    </tr>\n",
       "    <tr>\n",
       "      <th>United Kingdom</th>\n",
       "      <td>315</td>\n",
       "      <td>4.606610</td>\n",
       "    </tr>\n",
       "    <tr>\n",
       "      <th>Canada</th>\n",
       "      <td>260</td>\n",
       "      <td>3.802281</td>\n",
       "    </tr>\n",
       "    <tr>\n",
       "      <th>Poland</th>\n",
       "      <td>131</td>\n",
       "      <td>1.915765</td>\n",
       "    </tr>\n",
       "  </tbody>\n",
       "</table>\n",
       "</div>"
      ],
      "text/plain": [
       "                          Number Of Respondents  Percentage\n",
       "United States of America                   3125   45.700497\n",
       "India                                       528    7.721556\n",
       "United Kingdom                              315    4.606610\n",
       "Canada                                      260    3.802281\n",
       "Poland                                      131    1.915765"
      ]
     },
     "execution_count": 100,
     "metadata": {},
     "output_type": "execute_result"
    }
   ],
   "source": [
    "# Dropping rows where interest was not specified\n",
    "surveyrf = survey[survey['JobRoleInterest'].notnull()].copy()\n",
    "\n",
    "freq_countries_abs = surveyrf['CountryLive'].value_counts()\n",
    "freq_countries_rel = surveyrf['CountryLive'].value_counts(normalize = True)*100\n",
    "\n",
    "top_countries = pd.DataFrame()\n",
    "top_countries['Number Of Respondents'] = freq_countries_abs\n",
    "top_countries['Percentage'] = freq_countries_rel\n",
    "top_countries.head(5)"
   ]
  },
  {
   "cell_type": "markdown",
   "metadata": {},
   "source": [
    "With 45.7% of potential customers in the US, The US should be the first country the company should invest in. India, with 7.7% of potential customers should be the second.\n",
    "\n",
    "We can't just end our analysis here, however. Another feature we must look at before coming to a conclusion is how much people are actually willing to spend on learning, as advertising in high density markets where people are not willing to spend will not be profitable. "
   ]
  },
  {
   "cell_type": "markdown",
   "metadata": {},
   "source": [
    "## Spending Money For Learning\n",
    "\n",
    "The MoneyForLearning column in the dataset describes the amount of money (in USD) each participant spent on learning from the moment they started learning to moment they completed the survey. We can use this information to findout how much they spent per month. This information is of interest to us as the company sells it's subscription at $59 per month.\n",
    "\n",
    "The analysis will be narrowed down to the following 4 countries: USA, India, UK and Canada. This is because these countries have the highest absolute frequencies in our sample, meaning we have a decent amount of data for each. The official language is each of these 4 countries is English and the courses are written in English. The more people that know English, the better our chances to target the right people with our ads."
   ]
  },
  {
   "cell_type": "code",
   "execution_count": 101,
   "metadata": {
    "collapsed": false
   },
   "outputs": [
    {
     "data": {
      "text/plain": [
       "675"
      ]
     },
     "execution_count": 101,
     "metadata": {},
     "output_type": "execute_result"
    }
   ],
   "source": [
    "# Replacing 0 months with 1 month\n",
    "surveyrf['MonthsProgramming'].replace(0, 1, inplace = True)\n",
    "\n",
    "surveyrf['MoneyPerMonth'] = surveyrf['MoneyForLearning'] / surveyrf['MonthsProgramming']\n",
    "surveyrf['MoneyPerMonth'].isnull().sum()"
   ]
  },
  {
   "cell_type": "code",
   "execution_count": 102,
   "metadata": {
    "collapsed": false
   },
   "outputs": [],
   "source": [
    "# Dropping rows with null values in MoneyPerMonth\n",
    "surveyrf = surveyrf[surveyrf['MoneyPerMonth'].notnull()]\n",
    "\n",
    "# Dropping rows with null values in CountryLive\n",
    "surveyrf = surveyrf[surveyrf['CountryLive'].notnull()]"
   ]
  },
  {
   "cell_type": "code",
   "execution_count": 103,
   "metadata": {
    "collapsed": false
   },
   "outputs": [
    {
     "data": {
      "text/plain": [
       "United States of America    2933\n",
       "India                        463\n",
       "United Kingdom               279\n",
       "Canada                       240\n",
       "Name: CountryLive, dtype: int64"
      ]
     },
     "execution_count": 103,
     "metadata": {},
     "output_type": "execute_result"
    }
   ],
   "source": [
    "surveyrf['CountryLive'].value_counts().head(4)"
   ]
  },
  {
   "cell_type": "markdown",
   "metadata": {},
   "source": [
    "The 4 countries we want to study are still the top 4, and we have still enough data for each."
   ]
  },
  {
   "cell_type": "code",
   "execution_count": 104,
   "metadata": {
    "collapsed": false
   },
   "outputs": [
    {
     "data": {
      "text/plain": [
       "CountryLive\n",
       "Yemen                10000.000000\n",
       "Puerto Rico           4291.394558\n",
       "Austria                936.208333\n",
       "Spain                  784.553084\n",
       "Jamaica                747.037037\n",
       "Hong Kong              523.341049\n",
       "Trinidad & Tobago      500.000000\n",
       "Australia              419.268452\n",
       "Taiwan                 417.966524\n",
       "Luxembourg             338.817664\n",
       "Name: MoneyPerMonth, dtype: float64"
      ]
     },
     "execution_count": 104,
     "metadata": {},
     "output_type": "execute_result"
    }
   ],
   "source": [
    "mean_by_country = surveyrf.groupby('CountryLive').mean()\n",
    "mean_by_country['MoneyPerMonth'].sort_values(ascending = False).head(10)"
   ]
  },
  {
   "cell_type": "code",
   "execution_count": 105,
   "metadata": {
    "collapsed": false
   },
   "outputs": [
    {
     "data": {
      "text/plain": [
       "Number Of Respondents    112.000000\n",
       "Percentage                 1.637906\n",
       "Name: Australia, dtype: float64"
      ]
     },
     "execution_count": 105,
     "metadata": {},
     "output_type": "execute_result"
    }
   ],
   "source": [
    "top_countries.loc['Australia']"
   ]
  },
  {
   "cell_type": "markdown",
   "metadata": {},
   "source": [
    "Before we dive into studying the 4 counties that we have narrowed down to, it is worth noting that none of these 4 countries are the top spenders. A lot of the big spending countries are non-English speaking countries.\n",
    "\n",
    "We can look into Australia however. With 112 respondents which make up only 1.6% of the total, each respondent spent over 400 USD per month."
   ]
  },
  {
   "cell_type": "code",
   "execution_count": 106,
   "metadata": {
    "collapsed": false
   },
   "outputs": [
    {
     "data": {
      "text/plain": [
       "CountryLive\n",
       "United States of America    227.997996\n",
       "India                       135.100982\n",
       "United Kingdom               45.534443\n",
       "Canada                      113.510961\n",
       "Name: MoneyPerMonth, dtype: float64"
      ]
     },
     "execution_count": 106,
     "metadata": {},
     "output_type": "execute_result"
    }
   ],
   "source": [
    "mean_by_country['MoneyPerMonth'][['United States of America', 'India', 'United Kingdom', 'Canada']]"
   ]
  },
  {
   "cell_type": "markdown",
   "metadata": {},
   "source": [
    "Having considered some socio economic factors, it's surprising that people in India outspend those in the UK and Canada when it comes to e-learning.\n",
    "\n",
    "It might be that we don't have have enough representative data for the United Kingdom, Canada, and India, or we have some outliers (maybe coming from wrong survey answers) making the mean too big for India, or too low for the UK and Canada"
   ]
  },
  {
   "cell_type": "code",
   "execution_count": 107,
   "metadata": {
    "collapsed": false
   },
   "outputs": [
    {
     "name": "stderr",
     "output_type": "stream",
     "text": [
      "/dataquest/system/env/python3/lib/python3.4/site-packages/seaborn/categorical.py:454: FutureWarning: remove_na is deprecated and is a private function. Do not use.\n",
      "  box_data = remove_na(group_data)\n"
     ]
    },
    {
     "data": {
      "text/plain": [
       "([<matplotlib.axis.XTick at 0x7fa29303c080>,\n",
       "  <matplotlib.axis.XTick at 0x7fa291fcf748>,\n",
       "  <matplotlib.axis.XTick at 0x7fa29215a828>,\n",
       "  <matplotlib.axis.XTick at 0x7fa2920d3ef0>],\n",
       " <a list of 4 Text xticklabel objects>)"
      ]
     },
     "execution_count": 107,
     "metadata": {},
     "output_type": "execute_result"
    },
    {
     "data": {
      "image/png": "[encoded data removed]",
      "text/plain": [
       "<matplotlib.figure.Figure at 0x7fa291fd5908>"
      ]
     },
     "metadata": {},
     "output_type": "display_data"
    }
   ],
   "source": [
    "#Isolating countries of interest\n",
    "bools2 = []\n",
    "for i in range(len(surveyrf)):\n",
    "    chk = bool(re.search('United States of America|India|United Kingdom|Canada', surveyrf['CountryLive'].iloc[i]))\n",
    "    bools2.append(chk)\n",
    "boolssrs = pd.Series(bools2, index = surveyrf.index)\n",
    "\n",
    "four_countries = surveyrf[boolssrs]\n",
    "\n",
    "sns.boxplot(x = 'CountryLive', y = 'MoneyPerMonth', data = four_countries)\n",
    "plt.title('Boxplot Distibution For\\nMoney Spent Per Country', y= 1.05, fontsize = 15)\n",
    "plt.ylabel('US$/month')\n",
    "plt.ylim(0, 85000)\n",
    "plt.xlabel('Country')\n",
    "plt.xticks(range(4), ['USA', 'UK', 'India', 'Canada'], fontsize = 10)"
   ]
  },
  {
   "cell_type": "markdown",
   "metadata": {},
   "source": [
    "It's hard to describe the distribution for UK, India and Canada based on this plot, However, something is really off for the US. There are datapoints at \\$50K per month and \\$80k per month which are absurd and are therefore extreme outliers.\n",
    "\n",
    "We will remove any row that has a monthly expenditure of greather than \\$20k."
   ]
  },
  {
   "cell_type": "code",
   "execution_count": 108,
   "metadata": {
    "collapsed": false
   },
   "outputs": [
    {
     "data": {
      "text/plain": [
       "CountryLive\n",
       "United States of America    183.800110\n",
       "India                       135.100982\n",
       "United Kingdom               45.534443\n",
       "Canada                      113.510961\n",
       "Name: MoneyPerMonth, dtype: float64"
      ]
     },
     "execution_count": 108,
     "metadata": {},
     "output_type": "execute_result"
    }
   ],
   "source": [
    "surveyrf = surveyrf[surveyrf['MoneyPerMonth'] < 20000]\n",
    "\n",
    "#Recomputing mean values\n",
    "mean_by_country = surveyrf.groupby('CountryLive').mean()\n",
    "mean_by_country['MoneyPerMonth'][['United States of America', 'India', 'United Kingdom', 'Canada']]"
   ]
  },
  {
   "cell_type": "code",
   "execution_count": 109,
   "metadata": {
    "collapsed": false
   },
   "outputs": [
    {
     "name": "stderr",
     "output_type": "stream",
     "text": [
      "/dataquest/system/env/python3/lib/python3.4/site-packages/seaborn/categorical.py:454: FutureWarning: remove_na is deprecated and is a private function. Do not use.\n",
      "  box_data = remove_na(group_data)\n"
     ]
    },
    {
     "data": {
      "text/plain": [
       "([<matplotlib.axis.XTick at 0x7fa29c94b9e8>,\n",
       "  <matplotlib.axis.XTick at 0x7fa292071550>,\n",
       "  <matplotlib.axis.XTick at 0x7fa292090908>,\n",
       "  <matplotlib.axis.XTick at 0x7fa292063748>],\n",
       " <a list of 4 Text xticklabel objects>)"
      ]
     },
     "execution_count": 109,
     "metadata": {},
     "output_type": "execute_result"
    },
    {
     "data": {
      "image/png": "[encoded data removed]",
      "text/plain": [
       "<matplotlib.figure.Figure at 0x7fa291b1b320>"
      ]
     },
     "metadata": {},
     "output_type": "display_data"
    }
   ],
   "source": [
    "#Isolating countries of interest\n",
    "bools2 = []\n",
    "for i in range(len(surveyrf)):\n",
    "    chk = bool(re.search('United States of America|India|United Kingdom|Canada', surveyrf['CountryLive'].iloc[i]))\n",
    "    bools2.append(chk)\n",
    "boolssrs = pd.Series(bools2, index = surveyrf.index)\n",
    "\n",
    "four_countries = surveyrf[boolssrs]\n",
    "\n",
    "sns.boxplot(x = 'CountryLive', y = 'MoneyPerMonth', data = four_countries)\n",
    "plt.title('Boxplot Distibution For\\nMoney Spent Per Country', y= 1.05, fontsize = 15)\n",
    "plt.ylabel('US$/month')\n",
    "plt.xlabel('Country')\n",
    "plt.xticks(range(4), ['USA', 'UK', 'India', 'Canada'], fontsize = 10)"
   ]
  },
  {
   "cell_type": "markdown",
   "metadata": {},
   "source": [
    "Now we can see that India may have some extreme outliers values(values over \\$2.5k). We can't be certain if they are outliers just yet. It could be that the person attended bootcamps which are usually expensive.\n",
    "\n",
    "To be sure, we have to further explore the dataset."
   ]
  },
  {
   "cell_type": "code",
   "execution_count": 128,
   "metadata": {
    "collapsed": false
   },
   "outputs": [
    {
     "data": {
      "text/plain": [
       "1728     0.0\n",
       "1755     0.0\n",
       "7989     0.0\n",
       "8126     0.0\n",
       "13398    0.0\n",
       "15587    0.0\n",
       "Name: AttendedBootcamp, dtype: float64"
      ]
     },
     "execution_count": 128,
     "metadata": {},
     "output_type": "execute_result"
    }
   ],
   "source": [
    "india_outliers = four_countries[(four_countries['CountryLive'] == 'India') & (four_countries['MoneyPerMonth'] >= 2500)]\n",
    "india_outliers['AttendedBootcamp']"
   ]
  },
  {
   "cell_type": "markdown",
   "metadata": {},
   "source": [
    "Looks like none of these participants attended bootcamps. Without bootcamps it's really hard to justify spending over 2.5k USD per month on e-learning. Therefore, we will remove these rows."
   ]
  },
  {
   "cell_type": "code",
   "execution_count": 129,
   "metadata": {
    "collapsed": false
   },
   "outputs": [],
   "source": [
    "# Dropping rows with outliers \n",
    "four_countries = four_countries.drop(india_outliers.index)"
   ]
  },
  {
   "cell_type": "markdown",
   "metadata": {},
   "source": [
    "Now that we've dealt with outliers for India, let's look at the outliers for the US now (values greater than \\$6k)."
   ]
  },
  {
   "cell_type": "code",
   "execution_count": 130,
   "metadata": {
    "collapsed": false
   },
   "outputs": [
    {
     "data": {
      "text/plain": [
       "7505    1.0\n",
       "Name: AttendedBootcamp, dtype: float64"
      ]
     },
     "execution_count": 130,
     "metadata": {},
     "output_type": "execute_result"
    }
   ],
   "source": [
    "usa_outliers = four_countries[(four_countries['CountryLive'] == 'United States of America') & (four_countries['MoneyPerMonth'] >= 6000)]\n",
    "usa_outliers['AttendedBootcamp']"
   ]
  },
  {
   "cell_type": "code",
   "execution_count": 131,
   "metadata": {
    "collapsed": false
   },
   "outputs": [
    {
     "data": {
      "text/plain": [
       "7505    3.0\n",
       "Name: MonthsProgramming, dtype: float64"
      ]
     },
     "execution_count": 131,
     "metadata": {},
     "output_type": "execute_result"
    }
   ],
   "source": [
    "usa_outliers['MonthsProgramming']"
   ]
  },
  {
   "cell_type": "markdown",
   "metadata": {},
   "source": [
    "Out of these 11 outliers, 6 cannot be considered as outliers as they've attended bootcamps. Therefore, we'll only remove the rows which spent more than \\$6k but did not attend bootcamps.\n",
    "\n",
    "Also, the data shows that eight respondents had been programming for no more than three months when they completed the survey. They most likely paid a large sum of money for a bootcamp that was going to last for several months, so the amount of money spent per month is unrealistic and should be significantly lower (because they probably didn't spend anything for the next couple of months after the survey). As a consequence, we'll remove every these eight outliers."
   ]
  },
  {
   "cell_type": "code",
   "execution_count": 137,
   "metadata": {
    "collapsed": false
   },
   "outputs": [],
   "source": [
    "# Dropping respondents who didn't attendent a bootcamp\n",
    "no_bootcamp = four_countries[(four_countries['CountryLive'] == 'United States of America') & (four_countries['AttendedBootcamp'] == 0) & (four_countries['MoneyPerMonth'] > 6000)]\n",
    "four_countries = four_countries.drop(no_bootcamp.index)\n",
    "\n",
    "# Dropping respondents that had been programming for less than 3 months\n",
    "less_than_3 = four_countries[(four_countries['CountryLive'] == 'United States of America') & (four_countries['MonthsProgramming'] <= 3) & (four_countries['MoneyPerMonth'] > 6000)]\n",
    "four_countries = four_countries.drop(less_than_3.index)"
   ]
  },
  {
   "cell_type": "markdown",
   "metadata": {},
   "source": [
    "Finally, let's look at the outliers for Canada(values greater than \\$4k)"
   ]
  },
  {
   "cell_type": "code",
   "execution_count": 138,
   "metadata": {
    "collapsed": false
   },
   "outputs": [
    {
     "data": {
      "text/plain": [
       "Series([], Name: AttendedBootcamp, dtype: float64)"
      ]
     },
     "execution_count": 138,
     "metadata": {},
     "output_type": "execute_result"
    }
   ],
   "source": [
    "canada_outliers = four_countries[(four_countries['CountryLive'] == 'Canada') & (four_countries['MoneyPerMonth'] >= 4000)]\n",
    "canada_outliers['AttendedBootcamp']"
   ]
  },
  {
   "cell_type": "code",
   "execution_count": 139,
   "metadata": {
    "collapsed": false
   },
   "outputs": [
    {
     "data": {
      "text/plain": [
       "Series([], Name: MonthsProgramming, dtype: float64)"
      ]
     },
     "execution_count": 139,
     "metadata": {},
     "output_type": "execute_result"
    }
   ],
   "source": [
    "canada_outliers['MonthsProgramming']"
   ]
  },
  {
   "cell_type": "markdown",
   "metadata": {},
   "source": [
    "Here, the situation is similar to that of the US. This participant had been programming for no more than two months when he completed the survey. He seems to have paid a large sum of money in the beginning to enroll in a bootcamp, and then he probably didn't spend anything for the next couple of months after the survey. We'll take the same approach here as for the US and remove this outlier."
   ]
  },
  {
   "cell_type": "code",
   "execution_count": 140,
   "metadata": {
    "collapsed": false
   },
   "outputs": [],
   "source": [
    "four_countries = four_countries.drop(canada_outliers.index)"
   ]
  },
  {
   "cell_type": "code",
   "execution_count": 141,
   "metadata": {
    "collapsed": false
   },
   "outputs": [
    {
     "data": {
      "text/plain": [
       "CountryLive\n",
       "Canada                       93.065400\n",
       "India                        65.758763\n",
       "United Kingdom               45.534443\n",
       "United States of America    142.654608\n",
       "Name: MoneyPerMonth, dtype: float64"
      ]
     },
     "execution_count": 141,
     "metadata": {},
     "output_type": "execute_result"
    }
   ],
   "source": [
    "# Recomputing the means\n",
    "four_countries.groupby('CountryLive').mean()['MoneyPerMonth']"
   ]
  },
  {
   "cell_type": "code",
   "execution_count": 142,
   "metadata": {
    "collapsed": false
   },
   "outputs": [
    {
     "name": "stderr",
     "output_type": "stream",
     "text": [
      "/dataquest/system/env/python3/lib/python3.4/site-packages/seaborn/categorical.py:454: FutureWarning: remove_na is deprecated and is a private function. Do not use.\n",
      "  box_data = remove_na(group_data)\n"
     ]
    },
    {
     "data": {
      "text/plain": [
       "([<matplotlib.axis.XTick at 0x7fa28fef5e10>,\n",
       "  <matplotlib.axis.XTick at 0x7fa28fef58d0>,\n",
       "  <matplotlib.axis.XTick at 0x7fa28ff44f98>,\n",
       "  <matplotlib.axis.XTick at 0x7fa28ff6a390>],\n",
       " <a list of 4 Text xticklabel objects>)"
      ]
     },
     "execution_count": 142,
     "metadata": {},
     "output_type": "execute_result"
    },
    {
     "data": {
      "image/png": "[encoded data removed]",
      "text/plain": [
       "<matplotlib.figure.Figure at 0x7fa293a5dc88>"
      ]
     },
     "metadata": {},
     "output_type": "display_data"
    }
   ],
   "source": [
    "sns.boxplot(x = 'CountryLive', y = 'MoneyPerMonth', data = four_countries)\n",
    "plt.title('Boxplot Distibution For\\nMoney Spent Per Country', y= 1.05, fontsize = 15)\n",
    "plt.ylabel('US$/month')\n",
    "plt.xlabel('Country')\n",
    "plt.xticks(range(4), ['USA', 'UK', 'India', 'Canada'], fontsize = 10)"
   ]
  },
  {
   "cell_type": "code",
   "execution_count": 145,
   "metadata": {
    "collapsed": false
   },
   "outputs": [
    {
     "data": {
      "text/plain": [
       "United States of America    74.967908\n",
       "India                       11.732991\n",
       "United Kingdom               7.163030\n",
       "Canada                       6.136072\n",
       "Name: CountryLive, dtype: float64"
      ]
     },
     "execution_count": 145,
     "metadata": {},
     "output_type": "execute_result"
    }
   ],
   "source": [
    "four_countries['CountryLive'].value_counts(normalize = True)*100"
   ]
  },
  {
   "cell_type": "markdown",
   "metadata": {},
   "source": [
    "## Choosing the Two Best Markets\n",
    "\n",
    "With the highest amount of coders being in the US and willing to spend good money(around \\$143) per month, the company should definitely invest in the American market.\n",
    "\n",
    "With a subscription price of \\$59, it's better to invest to not invest in the UK as they are only willing to spend around \\$45.\n",
    "\n",
    "It's tough to decide between Canada and India for the second market. Canadians(around \\$93) are spending considerably more per month than Indians((around \\$67)), However, India has almost twice as many new coders. "
   ]
  },
  {
   "cell_type": "markdown",
   "metadata": {},
   "source": [
    "\n",
    "So it's not crystal clear what to choose between Canada and India. Although it seems more tempting to choose Canada, there are good chances that India might actually be a better choice because of the large number of potential customers.\n",
    "\n",
    "At this point, it seems that we have several options:\n",
    "\n",
    "Advertise in the US, India, and Canada by splitting the advertisement budget in various combinations:\n",
    "\n",
    "* 60% for the US, 25% for India, 15% for Canada.\n",
    "* 50% for the US, 30% for India, 20% for Canada; etc.\n",
    "\n",
    "Advertise only in the US and India, or the US and Canada. Again, it makes sense to split the advertisement budget unequally. For instance:\n",
    "\n",
    "* 70% for the US, and 30% for India.\n",
    "* 65% for the US, and 35% for Canada; etc.\n",
    "\n",
    "Or, just advertise only in the US.\n",
    "\n",
    "At this point, it's probably best to send our analysis to the marketing team and let them use their domain knowledge to decide. They might want to do some extra surveys in India and Canada and then get back to us for analyzing the new survey data."
   ]
  },
  {
   "cell_type": "code",
   "execution_count": null,
   "metadata": {
    "collapsed": true
   },
   "outputs": [],
   "source": []
  }
 ],
 "metadata": {
  "kernelspec": {
   "display_name": "Python 3",
   "language": "python",
   "name": "python3"
  },
  "language_info": {
   "codemirror_mode": {
    "name": "ipython",
    "version": 3
   },
   "file_extension": ".py",
   "mimetype": "text/x-python",
   "name": "python",
   "nbconvert_exporter": "python",
   "pygments_lexer": "ipython3",
   "version": "3.4.3"
  }
 },
 "nbformat": 4,
 "nbformat_minor": 2
}
